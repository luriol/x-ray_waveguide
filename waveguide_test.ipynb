{
 "cells": [
  {
   "cell_type": "code",
   "execution_count": 92,
   "metadata": {},
   "outputs": [],
   "source": [
    "import os\n",
    "from numpy import arange, zeros, floor, array, pi, sin\n",
    "from matplotlib import pyplot as plt"
   ]
  },
  {
   "cell_type": "markdown",
   "metadata": {},
   "source": [
    "Solving differential equation:\n",
    "$$\n",
    "\\frac{\\partial^2u}{\\partial t^2} = \\frac{c^2\\partial^2 u }{\\partial x^2}\n",
    "$$"
   ]
  },
  {
   "cell_type": "code",
   "execution_count": 179,
   "metadata": {},
   "outputs": [
    {
     "data": {
      "text/plain": [
       "(-2, 2)"
      ]
     },
     "execution_count": 179,
     "metadata": {},
     "output_type": "execute_result"
    },
    {
     "data": {
      "image/png": "[encoded data removed]",
      "text/plain": [
       "<Figure size 432x288 with 1 Axes>"
      ]
     },
     "metadata": {
      "needs_background": "light"
     },
     "output_type": "display_data"
    }
   ],
   "source": [
    "x=arange(0,9,.01)\n",
    "t=arange(0,1,.001)\n",
    "c = 3\n",
    "# Given mesh points as arrays x and t (x[i], t[n])\n",
    "dx = x[1] - x[0]\n",
    "dt = t[1] - t[0]\n",
    "C = c*dt/dx # Courant number\n",
    "Nt = len(t)-1\n",
    "Nx = len(x)-1\n",
    "C2 = C**2 # Help variable in the scheme\n",
    "# Set initial condition u(x,0) = I(x)\n",
    "lam = 3\n",
    "k = 2*pi/lam\n",
    "omega = k/c\n",
    "u_1 = sin(k*x)\n",
    "u = zeros(Nx+1)\n",
    "u_2 = zeros(Nx+1)\n",
    "# Apply special formula for first step, incorporating du/dt=0\n",
    "for i in range(1, Nx):\n",
    "    u[i] = u_1[i] - 0.5*C2*(u_1[i+1] - 2*u_1[i] + u_1[i-1])\n",
    "u[0] = 0\n",
    "u[Nx] = 0 # Enforce boundary conditions\n",
    "u_2 = u_1 + 0\n",
    "u_1 = u + 0\n",
    "plt.plot(x,u,'-k')\n",
    "plt.xlim(0,Nt)\n",
    "for n in range(1, 100):\n",
    "    # Update all inner mesh points at time t[n+1]\n",
    "    for i in range(1, Nx-1):\n",
    "        u[i] = 2*u_1[i] - u_2[i] - C2*(u_1[i+1] - 2*u_1[i] + u_1[i-1])\n",
    "    # Insert boundary conditions\n",
    "    u[0] = 0\n",
    "    u[Nx] = 0\n",
    "    # Switch variables before next step\n",
    "    u_2 = u_1 + 0\n",
    "    u_1 = u + 0\n",
    "    if (max(u)>1000):\n",
    "        break\n",
    "plt.plot(x,u,'-m')\n",
    "plt.xlim(0,9)\n",
    "plt.ylim(-2,2)"
   ]
  },
  {
   "cell_type": "code",
   "execution_count": 184,
   "metadata": {},
   "outputs": [
    {
     "data": {
      "text/plain": [
       "array([ 2.03637726e+01, -7.20827280e+01,  2.09147672e+02, -5.00698157e+02,\n",
       "        9.63177681e+02, -1.44590640e+03,  1.59260195e+03, -1.07969226e+03,\n",
       "       -4.18764803e-02,  0.00000000e+00])"
      ]
     },
     "execution_count": 184,
     "metadata": {},
     "output_type": "execute_result"
    }
   ],
   "source": [
    "u[-10:]"
   ]
  },
  {
   "cell_type": "code",
   "execution_count": 185,
   "metadata": {},
   "outputs": [
    {
     "data": {
      "text/plain": [
       "array([0.        , 0.02164117, 0.04327276, 0.06488554, 0.08646959,\n",
       "       0.10801611, 0.12951469, 0.1509572 , 0.17233259, 0.19363342])"
      ]
     },
     "execution_count": 185,
     "metadata": {},
     "output_type": "execute_result"
    }
   ],
   "source": [
    "u[0:10]"
   ]
  },
  {
   "cell_type": "code",
   "execution_count": null,
   "metadata": {},
   "outputs": [],
   "source": []
  }
 ],
 "metadata": {
  "kernelspec": {
   "display_name": "Python 3",
   "language": "python",
   "name": "python3"
  },
  "language_info": {
   "codemirror_mode": {
    "name": "ipython",
    "version": 3
   },
   "file_extension": ".py",
   "mimetype": "text/x-python",
   "name": "python",
   "nbconvert_exporter": "python",
   "pygments_lexer": "ipython3",
   "version": "3.7.1"
  }
 },
 "nbformat": 4,
 "nbformat_minor": 2
}
